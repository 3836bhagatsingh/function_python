{
  "cells": [
    {
      "cell_type": "markdown",
      "id": "406b24e6-2ef0-4e96-82cc-e9a81524f369",
      "metadata": {
        "id": "406b24e6-2ef0-4e96-82cc-e9a81524f369"
      },
      "source": [
        "<h3 align=\"center\">Assignment<br>Function</h3>\n",
        "<h4>Q1.What is the differences between a function and a method in a Python?</h4>\n",
        "<h5>Ans.<u>Function</u>-: A function  is a block of code that performs a specific task and run only when it is called .<br>\n",
        "<ul type=\"square\"><li>No class is needed to define a function .</li><li>Not associated with any object</li><li>It is called by its name.</li><li>It does not depend on any class. I.e.. it is an  identical identity.</li><li>It does not require any self argument.</li><li>It operates on data that you pass to them as an argument.  </li></ul></h5><font color = \"blue\">Syntax-:</font><h5><font color=\"orange\">\n",
        "def</font>&nbsp; functionName():<br>&nbsp;&nbsp;&nbsp;function body<br>&nbsp;&nbsp;&nbsp;<font color=\"green\">return</font>&nbspvalues</h5>"
      ]
    },
    {
      "cell_type": "code",
      "execution_count": null,
      "id": "587c82fc-e863-4c24-bfed-2743e3074225",
      "metadata": {
        "colab": {
          "base_uri": "https://localhost:8080/"
        },
        "id": "587c82fc-e863-4c24-bfed-2743e3074225",
        "outputId": "58d79e8c-9ae4-4861-c63a-69fc8e49b2b8"
      },
      "outputs": [
        {
          "output_type": "stream",
          "name": "stdout",
          "text": [
            "sum of two number: 18\n"
          ]
        }
      ],
      "source": [
        "def sum(a,b):\n",
        "    return a+b\n",
        "n=sum(9,9)\n",
        "print(\"sum of two number:\",n)"
      ]
    },
    {
      "cell_type": "markdown",
      "id": "aace6732-4281-41da-9981-a4fabb98335c",
      "metadata": {
        "id": "aace6732-4281-41da-9981-a4fabb98335c"
      },
      "source": [
        "## <u> Method</u>-:\n",
        "Python is an object-oriented Programming language ,so it contains objects and these objects have different properties and behaviour .Method in Python are used to define the behaviour of the python objects.\n",
        "* Method definitions are always present inside a class.\n",
        "* Associated with the class object.\n",
        "* It is called  an object.\n",
        "* It depends on the class they belong to.\n",
        "* It requires the self as its first argument.\n",
        "* It operates on the data of the object it associates with.  \n",
        "Example-:\n"
      ]
    },
    {
      "cell_type": "code",
      "execution_count": null,
      "id": "27d43ecb-4851-4f29-80a5-fc0182fb2ae4",
      "metadata": {
        "colab": {
          "base_uri": "https://localhost:8080/"
        },
        "id": "27d43ecb-4851-4f29-80a5-fc0182fb2ae4",
        "outputId": "38eed71e-56ef-41a6-df75-2a2a193cbf2b"
      },
      "outputs": [
        {
          "output_type": "stream",
          "name": "stdout",
          "text": [
            "sum of two number : 15\n"
          ]
        }
      ],
      "source": [
        "class Calc:\n",
        "      def sum(self, number1,number2):\n",
        "            print(\"sum of two number :\",number1+number2)\n",
        "object=Calc()\n",
        "object.sum(9,6)\n"
      ]
    },
    {
      "cell_type": "markdown",
      "id": "18717853-7cac-4e8c-b298-825b594c0019",
      "metadata": {
        "id": "18717853-7cac-4e8c-b298-825b594c0019"
      },
      "source": [
        "***"
      ]
    },
    {
      "cell_type": "markdown",
      "id": "15395d14-061b-4755-8305-b8103754315c",
      "metadata": {
        "id": "15395d14-061b-4755-8305-b8103754315c"
      },
      "source": [
        "## Q2 Explain the concept of function arguments and parameters in python?\n",
        "<u>Function Argument</u> -:  An Argument in the value passed to a function when it’s called.  \n",
        "<u> Function Paramete</u>r-: Parameters are the variables used in the function definition\n",
        "\n",
        "### <font color=\"green\">Note:- Number of arguments and parameters should always be equal except for the variable length argument list.</font>  \n",
        "Example-:\n",
        "\n"
      ]
    },
    {
      "cell_type": "code",
      "execution_count": null,
      "id": "d9f0d546-f02e-4ed2-b109-d2aa624c3fb5",
      "metadata": {
        "id": "d9f0d546-f02e-4ed2-b109-d2aa624c3fb5",
        "outputId": "7420ce0a-a522-4a6a-b41c-e7ab4fa27c4a"
      },
      "outputs": [
        {
          "name": "stdout",
          "output_type": "stream",
          "text": [
            "Ajay\n"
          ]
        }
      ],
      "source": [
        "def employee(name):\n",
        "     print(name)\n",
        "employee(\"Bhagat Singh\")\n"
      ]
    },
    {
      "cell_type": "markdown",
      "id": "888fb2d6-0f9c-4d28-8ef7-45684f14dfe8",
      "metadata": {
        "id": "888fb2d6-0f9c-4d28-8ef7-45684f14dfe8"
      },
      "source": [
        "###  Types of function  arguments-:   \n",
        "1 Positional Argument-: if the respective argument are passed in order one after the other , those argument are called “Positional Argument”.  \n",
        "2 Keyword Argument-: If the arguments are passed by assigning them to their respective parameter in the function call with no significance to the passing order , they are called “Keyword argument”.  \n",
        "### <font color=\"green\">  Keyword Argument must always follow positional argument </font>  \n",
        "Example-:\n",
        "\n",
        "\n"
      ]
    },
    {
      "cell_type": "code",
      "execution_count": null,
      "id": "f63d9eca-9205-4153-b804-095bad40329d",
      "metadata": {
        "id": "f63d9eca-9205-4153-b804-095bad40329d",
        "outputId": "ffe9dd8d-d50b-4d06-a7a6-ad0e584ec039"
      },
      "outputs": [
        {
          "name": "stdout",
          "output_type": "stream",
          "text": [
            "my name is  vaishnavi\n"
          ]
        }
      ],
      "source": [
        "def intro(name):\n",
        "    print(\"my name is \",name)\n",
        "intro(name=\"Bhagat Singh\")\n"
      ]
    },
    {
      "cell_type": "markdown",
      "id": "552ff1b0-764b-4b32-9674-935e2d0f2e5f",
      "metadata": {
        "id": "552ff1b0-764b-4b32-9674-935e2d0f2e5f"
      },
      "source": [
        "3.Default argument-: If we call the function without argument ,it uses the default value.  \n",
        " Example-:\n"
      ]
    },
    {
      "cell_type": "code",
      "execution_count": null,
      "id": "fd47c572-aa61-4955-bbb4-0e92621c24f5",
      "metadata": {
        "id": "fd47c572-aa61-4955-bbb4-0e92621c24f5",
        "outputId": "a6f75b3c-ce77-4aa4-f2b2-b34c3a15be2c"
      },
      "outputs": [
        {
          "data": {
            "text/plain": [
              "20"
            ]
          },
          "execution_count": 47,
          "metadata": {},
          "output_type": "execute_result"
        }
      ],
      "source": [
        "def prod(x ,y=5):\n",
        "    return x*y\n",
        "prod(4)\n"
      ]
    },
    {
      "cell_type": "markdown",
      "id": "8eff9557-967b-405b-b565-2a314868bfe1",
      "metadata": {
        "id": "8eff9557-967b-405b-b565-2a314868bfe1"
      },
      "source": [
        "4.Arbitrary keyword argument-:  If you do not know how many keyword arguments that will be passed into your function add two asterisk ** before   the parameter name in the function definition.  \n",
        "Example-:\n"
      ]
    },
    {
      "cell_type": "code",
      "execution_count": null,
      "id": "7ed2662c-2202-4bbe-89d2-4e1e4ae6d019",
      "metadata": {
        "id": "7ed2662c-2202-4bbe-89d2-4e1e4ae6d019",
        "outputId": "bbe54b5d-34d7-4648-ade3-455861546b02"
      },
      "outputs": [
        {
          "data": {
            "text/plain": [
              "{'first_name': 'vaishnavi ', 'last_name': 'gupta'}"
            ]
          },
          "execution_count": 57,
          "metadata": {},
          "output_type": "execute_result"
        }
      ],
      "source": [
        "def name(**name):\n",
        "    return name\n",
        "name(first_name =\"Bhagat\",last_name = \" Singh\")\n",
        "\n"
      ]
    },
    {
      "cell_type": "markdown",
      "id": "a5e9732b-632f-4884-8230-e52daa654e9b",
      "metadata": {
        "id": "a5e9732b-632f-4884-8230-e52daa654e9b"
      },
      "source": [
        "***"
      ]
    },
    {
      "cell_type": "markdown",
      "id": "79f95e2b-e70f-48ed-85e4-2a77d35777c8",
      "metadata": {
        "id": "79f95e2b-e70f-48ed-85e4-2a77d35777c8"
      },
      "source": [
        "## Q3. What are the different ways to define and call a function in Python ?  \n",
        "**Python Function** is a block of statements that return task.  \n",
        "### Types of Function in Python   \n",
        "* Built-in library function -: These are standard function in python that are available to use.\n",
        "* User-defined function-: We can create our own function based on pur reqiurements.\n",
        "### Creating a Function in Python-:\n",
        "<font color=\"red\">def</font>  functionname():  \n",
        "&nbsp;&nbsp;&nbsp;Method body\n",
        "  \n"
      ]
    },
    {
      "cell_type": "markdown",
      "id": "09dfe1e1-ebea-4fde-ad2d-b7863ae6cffa",
      "metadata": {
        "id": "09dfe1e1-ebea-4fde-ad2d-b7863ae6cffa"
      },
      "source": [
        "### Calling a function:-  \n",
        "After creating a function in python we can call it by using the name of functions.  \n",
        "functionname()  \n",
        "Example:"
      ]
    },
    {
      "cell_type": "code",
      "execution_count": null,
      "id": "6ed99829-6184-4dc9-bfaf-4f0c36b275b2",
      "metadata": {
        "id": "6ed99829-6184-4dc9-bfaf-4f0c36b275b2",
        "outputId": "4ddee371-2f7b-4b51-d220-4932ea6fee46"
      },
      "outputs": [
        {
          "name": "stdout",
          "output_type": "stream",
          "text": [
            "all animal are very dangerous !\n"
          ]
        }
      ],
      "source": [
        "def animal():\n",
        "    print(\"Wild animal are very dangerous !\")\n",
        "animal()"
      ]
    },
    {
      "cell_type": "markdown",
      "id": "e477ad09-a9d3-4beb-8507-6a8100b2c2fb",
      "metadata": {
        "id": "e477ad09-a9d3-4beb-8507-6a8100b2c2fb"
      },
      "source": [
        "### call by References  \n",
        "It is the way of handing arguments to functions where the references to the real object gets passed instead of the object's actual value.  \n",
        "Example:-\n"
      ]
    },
    {
      "cell_type": "code",
      "execution_count": null,
      "id": "a013a11c-1746-4e8e-9a70-b900e208ed31",
      "metadata": {
        "id": "a013a11c-1746-4e8e-9a70-b900e208ed31",
        "outputId": "2f25c635-00ac-491b-e22c-3ed99ee8945e"
      },
      "outputs": [
        {
          "name": "stdout",
          "output_type": "stream",
          "text": [
            "[12, 56, 78, 98, 50]\n"
          ]
        }
      ],
      "source": [
        "def add(list1):\n",
        "    list1.append(50)\n",
        "    print(list1)\n",
        "my_list=[12,56,78,98]\n",
        "add(my_list)"
      ]
    },
    {
      "cell_type": "markdown",
      "id": "8e2a734d-9a8b-4cde-bf6b-0856c224aa4f",
      "metadata": {
        "id": "8e2a734d-9a8b-4cde-bf6b-0856c224aa4f"
      },
      "source": [
        "### Call by Value -:  \n",
        "When you pass a variable to a function ,you are esential handing over the actual value of the variable itself,not refernces to the object it's pointing to."
      ]
    },
    {
      "cell_type": "code",
      "execution_count": null,
      "id": "2ab5dca2-301f-42db-9801-55be69a2bbd3",
      "metadata": {
        "colab": {
          "base_uri": "https://localhost:8080/"
        },
        "id": "2ab5dca2-301f-42db-9801-55be69a2bbd3",
        "outputId": "0616a6c1-80bd-420f-c635-74389ba50c77"
      },
      "outputs": [
        {
          "output_type": "stream",
          "name": "stdout",
          "text": [
            "Singh\n",
            "Bhagat\n"
          ]
        }
      ],
      "source": [
        "s=\"Bhagat\"\n",
        "def tes(s):\n",
        "    s=\"Singh\"\n",
        "    print(s)\n",
        "tes(s)\n",
        "print(s)"
      ]
    },
    {
      "cell_type": "markdown",
      "id": "500d3b18-d7ee-402d-863e-8fa93463da83",
      "metadata": {
        "id": "500d3b18-d7ee-402d-863e-8fa93463da83"
      },
      "source": [
        "***"
      ]
    },
    {
      "cell_type": "markdown",
      "id": "dcc99c7e-3b86-400d-b078-2143ecbf94ee",
      "metadata": {
        "id": "dcc99c7e-3b86-400d-b078-2143ecbf94ee"
      },
      "source": [
        "## Q4. What is the purpose of the 'return' statement in a Python function?  \n",
        "The Python return statement marks the end of a function and specifie the value or values to pass back from tthe function.  \n",
        "Return statements can return data of any type, including,float,integer,lists,strings.dictionaries etc..  \n",
        "### Use of Return Stattement :-  \n",
        "1. Sending Back Results\n",
        "2. Retrieving Specific Data\n",
        "3. Exiting funcions based on Conditions\n",
        "### <font color=\"green\">Note:- A return statment ends tthe execution of a function and returns control tto the calling function.  </font>  \n",
        "Example-:\n"
      ]
    },
    {
      "cell_type": "code",
      "execution_count": null,
      "id": "74c1f7fc-b247-40c2-9b4c-730fd1120959",
      "metadata": {
        "id": "74c1f7fc-b247-40c2-9b4c-730fd1120959",
        "outputId": "560a9863-095a-445a-a37e-647bde1d6f0e"
      },
      "outputs": [
        {
          "data": {
            "text/plain": [
              "9"
            ]
          },
          "execution_count": 103,
          "metadata": {},
          "output_type": "execute_result"
        }
      ],
      "source": [
        "def fun():\n",
        "    return 4+5\n",
        "    print(\"hello\")\n",
        "fun()"
      ]
    },
    {
      "cell_type": "code",
      "execution_count": null,
      "id": "e9a598d3-0ece-4baf-9b4f-84ed33fdf72d",
      "metadata": {
        "id": "e9a598d3-0ece-4baf-9b4f-84ed33fdf72d",
        "outputId": "78c543d8-bd4b-4a05-c966-f413fddb9160"
      },
      "outputs": [
        {
          "data": {
            "text/plain": [
              "1"
            ]
          },
          "execution_count": 105,
          "metadata": {},
          "output_type": "execute_result"
        }
      ],
      "source": [
        "def floor(x,y):\n",
        "    return x//y\n",
        "floor(5,4)"
      ]
    },
    {
      "cell_type": "markdown",
      "id": "08383e55-273a-4beb-9492-1000722a5aae",
      "metadata": {
        "id": "08383e55-273a-4beb-9492-1000722a5aae"
      },
      "source": [
        "***"
      ]
    },
    {
      "cell_type": "markdown",
      "id": "2278e47c-6f03-40d8-a0ca-81f878c1e6c9",
      "metadata": {
        "id": "2278e47c-6f03-40d8-a0ca-81f878c1e6c9"
      },
      "source": [
        "## Q5. What are iterators in Python and how do they differ from iterables?  \n",
        "**Iterators** in python is an object that is used to iterate over iterables object like list,tuple,dicts and sets  \n",
        "### The Python iterators object is initialized using-:  \n",
        "1. __iter__():- The iter() method called for initalization of an iterator. this returns an iterator object.\n",
        "2. __next__()-: The next() method returns the next value for the iterables. When we use a for loop to traverse any iterable\n",
        " object ,internally it uses the iter() method to get an iterator object,which further uses the next() method to iterate over.\n",
        "\n",
        "### Iterable vs Iterator  \n",
        "Python iterable and python iterator are different . The main difference between them is, iterable in python cannot save the state of tthe iteration,  \n",
        "whereas in iterators the states the current iteration gets saved.  \n"
      ]
    },
    {
      "cell_type": "code",
      "execution_count": null,
      "id": "e6eb38d4-ed00-48ff-8873-a6d0632d6bb4",
      "metadata": {
        "id": "e6eb38d4-ed00-48ff-8873-a6d0632d6bb4",
        "outputId": "5d098bfb-ecf4-4f15-c2c4-355f5733e03b"
      },
      "outputs": [
        {
          "data": {
            "text/plain": [
              "'apple'"
            ]
          },
          "execution_count": 122,
          "metadata": {},
          "output_type": "execute_result"
        }
      ],
      "source": [
        "# iterating in iterator\n",
        "tuple1 =(\"apple\",\"mango\",\"orange\",\"charry\")\n",
        "tuple_iter= iter(tuple1)\n",
        "next(tuple_iter)"
      ]
    },
    {
      "cell_type": "code",
      "execution_count": null,
      "id": "7df3767a-ba05-4049-b176-28ebf7bfb0a6",
      "metadata": {
        "id": "7df3767a-ba05-4049-b176-28ebf7bfb0a6",
        "outputId": "22083f06-a2f1-4c04-f5c5-eb37460133f8"
      },
      "outputs": [
        {
          "data": {
            "text/plain": [
              "'mango'"
            ]
          },
          "execution_count": 124,
          "metadata": {},
          "output_type": "execute_result"
        }
      ],
      "source": [
        "next(tuple_iter)"
      ]
    },
    {
      "cell_type": "code",
      "execution_count": null,
      "id": "6ea6cbe3-0a2e-4254-b583-cebd7ce0c19e",
      "metadata": {
        "id": "6ea6cbe3-0a2e-4254-b583-cebd7ce0c19e",
        "outputId": "ccc65c0f-b10f-4b88-dfae-87fef17dfcee"
      },
      "outputs": [
        {
          "data": {
            "text/plain": [
              "'orange'"
            ]
          },
          "execution_count": 126,
          "metadata": {},
          "output_type": "execute_result"
        }
      ],
      "source": [
        "next(tuple_iter)"
      ]
    },
    {
      "cell_type": "code",
      "execution_count": null,
      "id": "b5fc67ba-2d5c-46ec-80ff-9a3631e8ebf3",
      "metadata": {
        "id": "b5fc67ba-2d5c-46ec-80ff-9a3631e8ebf3",
        "outputId": "a133c758-e367-4c05-c1ba-956fb2d52dc7"
      },
      "outputs": [
        {
          "data": {
            "text/plain": [
              "'charry'"
            ]
          },
          "execution_count": 128,
          "metadata": {},
          "output_type": "execute_result"
        }
      ],
      "source": [
        "next(tuple_iter)"
      ]
    },
    {
      "cell_type": "code",
      "execution_count": null,
      "id": "26f426fe-408c-4c3d-9bba-afdd10119ff2",
      "metadata": {
        "id": "26f426fe-408c-4c3d-9bba-afdd10119ff2",
        "outputId": "361b6437-bca5-4fe2-f373-232bda232edd"
      },
      "outputs": [
        {
          "name": "stdout",
          "output_type": "stream",
          "text": [
            "1\n",
            "2\n",
            "3\n",
            "4\n",
            "5\n"
          ]
        }
      ],
      "source": [
        "# iterating on an iterables\n",
        "tup=(1,2,3,4,5)\n",
        "for i in tup:\n",
        "    print(i)"
      ]
    },
    {
      "cell_type": "markdown",
      "id": "b9b78577-eaf9-4013-891e-efe1669c738d",
      "metadata": {
        "id": "b9b78577-eaf9-4013-891e-efe1669c738d"
      },
      "source": [
        "### <font color=\"green\">Note:- Every iterator is also an iterable , but not every iterable is an iterator in python.  \n",
        "***"
      ]
    },
    {
      "cell_type": "markdown",
      "id": "5236385b-7033-47c8-b73a-b2cb0c5db367",
      "metadata": {
        "id": "5236385b-7033-47c8-b73a-b2cb0c5db367"
      },
      "source": [
        "## Q6. Explain the concept of generators in python and how they are defined.  \n",
        "A Generators in python is a function that returns an iterator using the **yield** keyword.  \n",
        "yield keyword  -: if the body of a def contains yield , tthe function automatically becomes a python generator function  \n",
        "### Create a Generator in Python  \n"
      ]
    },
    {
      "cell_type": "markdown",
      "id": "ebd37629-d749-4adf-b8c1-06cadf169d89",
      "metadata": {
        "id": "ebd37629-d749-4adf-b8c1-06cadf169d89"
      },
      "source": [
        "# def functionName():\n",
        "#     yield satement\n",
        "def generator():\n",
        "    yield 4*6\n",
        "for i in generator():\n",
        "    print(i)"
      ]
    },
    {
      "cell_type": "markdown",
      "id": "a4a0341e-df4f-41e1-847b-fecc4e444147",
      "metadata": {
        "id": "a4a0341e-df4f-41e1-847b-fecc4e444147"
      },
      "source": [
        "**yield**  general function uses return statment but a generator function use yield state.  \n",
        "It is creating generator similar to iterator object"
      ]
    },
    {
      "cell_type": "code",
      "execution_count": null,
      "id": "85ee830a-0631-4aac-b58e-1a94d0d54d2a",
      "metadata": {
        "id": "85ee830a-0631-4aac-b58e-1a94d0d54d2a",
        "outputId": "b4d1fbc5-62a5-4984-8cb1-230b185c10b2"
      },
      "outputs": [
        {
          "data": {
            "text/plain": [
              "0"
            ]
          },
          "execution_count": 148,
          "metadata": {},
          "output_type": "execute_result"
        }
      ],
      "source": [
        "def square_no(n):\n",
        "    for i in range(n):\n",
        "        yield i**2\n",
        "gen=square_no(4)\n",
        "next(gen)\n"
      ]
    },
    {
      "cell_type": "code",
      "execution_count": null,
      "id": "612f9daf-8ac2-463e-b854-e72d0f9daf3c",
      "metadata": {
        "id": "612f9daf-8ac2-463e-b854-e72d0f9daf3c",
        "outputId": "24e72f41-2f81-4e11-d1a4-686013909e32"
      },
      "outputs": [
        {
          "data": {
            "text/plain": [
              "1"
            ]
          },
          "execution_count": 150,
          "metadata": {},
          "output_type": "execute_result"
        }
      ],
      "source": [
        "next(gen)"
      ]
    },
    {
      "cell_type": "code",
      "execution_count": null,
      "id": "00191c6a-200a-46b4-85b7-20a96a600cbd",
      "metadata": {
        "id": "00191c6a-200a-46b4-85b7-20a96a600cbd",
        "outputId": "9cf939fc-4763-49c7-b33e-d002e4aa7b91"
      },
      "outputs": [
        {
          "data": {
            "text/plain": [
              "4"
            ]
          },
          "execution_count": 152,
          "metadata": {},
          "output_type": "execute_result"
        }
      ],
      "source": [
        "next(gen)"
      ]
    },
    {
      "cell_type": "code",
      "execution_count": null,
      "id": "a5def2d2-c263-4a4c-8c99-1c848306a1fc",
      "metadata": {
        "id": "a5def2d2-c263-4a4c-8c99-1c848306a1fc",
        "outputId": "3136397f-b9c5-412a-b678-b40d2170d182"
      },
      "outputs": [
        {
          "data": {
            "text/plain": [
              "9"
            ]
          },
          "execution_count": 154,
          "metadata": {},
          "output_type": "execute_result"
        }
      ],
      "source": [
        "next(gen)"
      ]
    },
    {
      "cell_type": "markdown",
      "id": "fb0bc9bb-f2d1-409d-9b8e-cd22827588e2",
      "metadata": {
        "id": "fb0bc9bb-f2d1-409d-9b8e-cd22827588e2"
      },
      "source": [
        "***"
      ]
    },
    {
      "cell_type": "markdown",
      "id": "39f31d8a-175a-4d67-8a4c-c292fa0f813d",
      "metadata": {
        "id": "39f31d8a-175a-4d67-8a4c-c292fa0f813d"
      },
      "source": [
        "## Q7. What are the advantages of using generators over regular functions.  \n",
        "A generators is a function that returns an iterable set of values. Generators avoid creating a list or other data structure in   \n",
        "memory to store the values as they are produced ,instead replacing them one by one over time  \n",
        "**Advantages-:**  \n",
        "* Generators are more efficient than loops for large datasets ,as they produce values one by one instead of storing them in memory befor returning tem.\n",
        "* Generators in python can also save time as they do not need to wait for tthe entire sequence to be generated before, returning them allowing code to execute in linear time.\n",
        "* Generators can produce infinite sequences ,which is help for task such as stream processing .\n",
        "* generators can produce a sequence of values over time, thay are incredibly versitle and can be used in various application\n",
        "  "
      ]
    },
    {
      "cell_type": "code",
      "execution_count": null,
      "id": "cae27b65-079c-4866-b9be-abd75aafeb1e",
      "metadata": {
        "id": "cae27b65-079c-4866-b9be-abd75aafeb1e",
        "outputId": "2d53e8ce-3d05-408b-c2fb-3d60cbda5e21"
      },
      "outputs": [
        {
          "data": {
            "text/plain": [
              "0"
            ]
          },
          "execution_count": 180,
          "metadata": {},
          "output_type": "execute_result"
        }
      ],
      "source": [
        "def generatorfun(n):\n",
        "    for i in range(n):\n",
        "        yield i%2\n",
        "n=generatorfun(5)\n",
        "next(n)"
      ]
    },
    {
      "cell_type": "code",
      "execution_count": null,
      "id": "478e0e2a-04ee-4ca2-b7a9-fae8f209e43c",
      "metadata": {
        "id": "478e0e2a-04ee-4ca2-b7a9-fae8f209e43c",
        "outputId": "46be0318-93e5-4d1a-f15a-b8a6f504b063"
      },
      "outputs": [
        {
          "data": {
            "text/plain": [
              "1"
            ]
          },
          "execution_count": 182,
          "metadata": {},
          "output_type": "execute_result"
        }
      ],
      "source": [
        "next(n)"
      ]
    },
    {
      "cell_type": "code",
      "execution_count": null,
      "id": "b2e8bbaa-eddf-4803-8c81-0bc320bf53b0",
      "metadata": {
        "id": "b2e8bbaa-eddf-4803-8c81-0bc320bf53b0",
        "outputId": "430bc1df-c8d1-4821-b30d-e15a3b3a9efc"
      },
      "outputs": [
        {
          "data": {
            "text/plain": [
              "0"
            ]
          },
          "execution_count": 184,
          "metadata": {},
          "output_type": "execute_result"
        }
      ],
      "source": [
        "next(n)"
      ]
    },
    {
      "cell_type": "code",
      "execution_count": null,
      "id": "379e4ae2-36c7-4934-ace4-2444b34d0372",
      "metadata": {
        "id": "379e4ae2-36c7-4934-ace4-2444b34d0372",
        "outputId": "e88cd66e-d225-496a-f6ee-0a70f94568a0"
      },
      "outputs": [
        {
          "data": {
            "text/plain": [
              "1"
            ]
          },
          "execution_count": 186,
          "metadata": {},
          "output_type": "execute_result"
        }
      ],
      "source": [
        "next(n)"
      ]
    },
    {
      "cell_type": "code",
      "execution_count": null,
      "id": "97a33b32-013e-46d2-9a43-9a4c01196b87",
      "metadata": {
        "id": "97a33b32-013e-46d2-9a43-9a4c01196b87",
        "outputId": "da936aa9-989a-44bc-daea-14fe7be888d8"
      },
      "outputs": [
        {
          "data": {
            "text/plain": [
              "0"
            ]
          },
          "execution_count": 188,
          "metadata": {},
          "output_type": "execute_result"
        }
      ],
      "source": [
        "next(n)"
      ]
    },
    {
      "cell_type": "markdown",
      "id": "54604489-c602-43d5-a919-26af386f4479",
      "metadata": {
        "id": "54604489-c602-43d5-a919-26af386f4479"
      },
      "source": [
        "***"
      ]
    },
    {
      "cell_type": "markdown",
      "id": "5e88f7b7-0d34-45e3-abae-efcae4cf79ab",
      "metadata": {
        "id": "5e88f7b7-0d34-45e3-abae-efcae4cf79ab"
      },
      "source": [
        "## Q8.What is a lambda function in python and when is it typically used?\n",
        "**lambda Function** are anonymous functions means that the function is without a name .  \n",
        "A lambda function can take any number of argument , but can only have one expression.   \n",
        "Syntax -:  \n",
        "lambda argument : expression\n"
      ]
    },
    {
      "cell_type": "code",
      "execution_count": null,
      "id": "13b17b38-7b44-4496-b0b5-71aeef449f33",
      "metadata": {
        "id": "13b17b38-7b44-4496-b0b5-71aeef449f33",
        "outputId": "78b95b54-9aad-4220-8c6d-851176c24132"
      },
      "outputs": [
        {
          "data": {
            "text/plain": [
              "8"
            ]
          },
          "execution_count": 200,
          "metadata": {},
          "output_type": "execute_result"
        }
      ],
      "source": [
        "fib = lambda n: 1 if n<=1 else fib(n-1)+fib(n-2)\n",
        "fib(5)"
      ]
    },
    {
      "cell_type": "markdown",
      "id": "8399d116-ae16-443a-9974-76c7f0075a39",
      "metadata": {
        "id": "8399d116-ae16-443a-9974-76c7f0075a39"
      },
      "source": [
        "* We use lambda functions once we require a nameless function for a brief period of your time.   \n",
        "* We generally use Lambda function as an argument to a higher-order function"
      ]
    },
    {
      "cell_type": "markdown",
      "id": "def9e4a4-c53d-46cd-b929-76c9511061da",
      "metadata": {
        "id": "def9e4a4-c53d-46cd-b929-76c9511061da"
      },
      "source": [
        "***"
      ]
    },
    {
      "cell_type": "markdown",
      "id": "db4ef9c0-2a35-4471-93b6-f01040862ddb",
      "metadata": {
        "id": "db4ef9c0-2a35-4471-93b6-f01040862ddb"
      },
      "source": [
        "## Q9. Explain the purpose and usage of the 'map()' function in Python.  \n",
        "The map() function , which is utilized to apply a function to each element of an iterable and return a new iterable with the outcomes.  \n",
        "The map() function takes two arguments: a  function and an iterable. The function contention is the function that will be applied to every element\n",
        "of the iterable and the iterable contention is the iterable that the function will applied to.  \n",
        "**Syntax**:  \n",
        "map(function,iterables)\n"
      ]
    },
    {
      "cell_type": "code",
      "execution_count": null,
      "id": "fc6a27bb-5420-4f23-bdeb-ff09561d0d1e",
      "metadata": {
        "id": "fc6a27bb-5420-4f23-bdeb-ff09561d0d1e",
        "outputId": "113a692e-e21f-402a-85df-05c5ecbfe6c8"
      },
      "outputs": [
        {
          "name": "stdout",
          "output_type": "stream",
          "text": [
            "[2025, 4489, 7921, 8100]\n"
          ]
        }
      ],
      "source": [
        "m=[45,67,89,90]\n",
        "Square= list(map(lambda x:x**2,m))\n",
        "print(Square)"
      ]
    },
    {
      "cell_type": "markdown",
      "id": "36d55ddb-f2e1-4684-b6d9-80fb85343d97",
      "metadata": {
        "id": "36d55ddb-f2e1-4684-b6d9-80fb85343d97"
      },
      "source": [
        "**Usages:**   \n",
        "you can use map() with a lambda function to apply the lambda function to each element of an iterables.  \n",
        "map() is useful when you need to apply a **transformation function** to each item in an iterable and transforms them into a new iterabl.\n",
        "map() is one of the tools that support a functional programming style in python."
      ]
    },
    {
      "cell_type": "code",
      "execution_count": null,
      "id": "d276d04d-3595-4ca1-921b-0f4994e53041",
      "metadata": {
        "colab": {
          "base_uri": "https://localhost:8080/"
        },
        "id": "d276d04d-3595-4ca1-921b-0f4994e53041",
        "outputId": "8e1b2f92-c00f-4a55-a4b5-bd2c681bc02b"
      },
      "outputs": [
        {
          "output_type": "stream",
          "name": "stdout",
          "text": [
            "[['H', 'e', 'l', 'l', 'o'], ['W', 'o', 'r', 'l', 'd'], ['D', 'e', 'a', 'r']]\n"
          ]
        }
      ],
      "source": [
        "l=[\"Hello\",\"World\",\"Dear\"]\n",
        "test = list(map(list,l))\n",
        "print(test)"
      ]
    },
    {
      "cell_type": "markdown",
      "id": "7b10f458-6ada-41ad-8162-5dd1a34cd1a5",
      "metadata": {
        "id": "7b10f458-6ada-41ad-8162-5dd1a34cd1a5"
      },
      "source": [
        "***"
      ]
    },
    {
      "cell_type": "markdown",
      "id": "c1fc3316-e105-4476-ad19-13faf6913b05",
      "metadata": {
        "id": "c1fc3316-e105-4476-ad19-13faf6913b05"
      },
      "source": [
        "## Q10. What is the difference between 'map()','reduce()', and 'filter()' function in python ?"
      ]
    },
    {
      "cell_type": "markdown",
      "id": "c9071850-420b-4e84-9d15-ceacc5fe4e59",
      "metadata": {
        "id": "c9071850-420b-4e84-9d15-ceacc5fe4e59"
      },
      "source": [
        "### <u>map() function -:</u> returns a map object(which is an iterator) of the results after applying the given function to each item of given iterable . Makes an itertor that computes the function using argument from each of the iterables.  \n",
        " Syntax-:  \n",
        "map(fun ,iter)  \n",
        "### Parameters:  \n",
        "* fun-:  it is a function to which map passes each element of given iterable .  \n",
        "* iter-:  iterable object to be mapped.   \n"
      ]
    },
    {
      "cell_type": "code",
      "execution_count": null,
      "id": "13666d3d-1789-4ca9-b9f3-73ce07dcc6e9",
      "metadata": {
        "id": "13666d3d-1789-4ca9-b9f3-73ce07dcc6e9",
        "outputId": "043f14ad-ba02-43e1-fe0e-a9719d990023"
      },
      "outputs": [
        {
          "data": {
            "text/plain": [
              "[1, 4, 9, 16, 25]"
            ]
          },
          "execution_count": 3,
          "metadata": {},
          "output_type": "execute_result"
        }
      ],
      "source": [
        "l = [1,2,3,4,5]\n",
        "def square(l):\n",
        "    return l**2\n",
        "list(map(square,l))"
      ]
    },
    {
      "cell_type": "markdown",
      "id": "afc83898-9797-49a1-b6c4-9c9f54ccfa31",
      "metadata": {
        "id": "afc83898-9797-49a1-b6c4-9c9f54ccfa31"
      },
      "source": [
        "### <u>reduce()-:</u> function is used to apply a particular function passed in its to all of the list elements mentioned in the sequence passed along . This function us defined in <font color=\"blue\">\"functool\"</font> module.  \n",
        "Syntax-:  \n",
        "reduce(func ,iterable)  \n",
        "* fun-: It is a function to execuate on each element of the iterable object.\n",
        "* iter-: It is iterable to be reduced.\n",
        "* Example-:  \n"
      ]
    },
    {
      "cell_type": "code",
      "execution_count": null,
      "id": "e02a4f6c-ac1b-40f1-8fc8-8638ef555f1d",
      "metadata": {
        "colab": {
          "base_uri": "https://localhost:8080/"
        },
        "id": "e02a4f6c-ac1b-40f1-8fc8-8638ef555f1d",
        "outputId": "766cc46a-06eb-41da-8861-d299e5bfb3e5"
      },
      "outputs": [
        {
          "output_type": "execute_result",
          "data": {
            "text/plain": [
              "25"
            ]
          },
          "metadata": {},
          "execution_count": 5
        }
      ],
      "source": [
        "from functools import reduce\n",
        "l=[2,3,4,5,2,9]\n",
        "reduce(lambda x,y:x+y,l)"
      ]
    },
    {
      "cell_type": "markdown",
      "id": "fe223e89-c911-455d-9c6f-c6828649c98c",
      "metadata": {
        "id": "fe223e89-c911-455d-9c6f-c6828649c98c"
      },
      "source": [
        "### <u>filter()-:</u> function  filters the given sequence with the help of a function that test ech element in the sequence to be true or not.  \n",
        "Syntax-:  \n",
        "filter(function,seqeunce)  \n",
        "* function-: test if each element of a sequence is true or not.\n",
        "* seqence-: which needs to be filtered , it can be set, list,tuples,or containers of any iterators.\n",
        "* Example-:"
      ]
    },
    {
      "cell_type": "code",
      "execution_count": null,
      "id": "f446da51-8b59-4665-a8be-b9061a398e3d",
      "metadata": {
        "id": "f446da51-8b59-4665-a8be-b9061a398e3d",
        "outputId": "8815810f-8b4e-4bd1-a567-ca81739db20b"
      },
      "outputs": [
        {
          "data": {
            "text/plain": [
              "[-1, -2, -3]"
            ]
          },
          "execution_count": 11,
          "metadata": {},
          "output_type": "execute_result"
        }
      ],
      "source": [
        "list1=[-1,-2,-3,4,5,6,7]\n",
        "list(filter(lambda x: x<0,list1))"
      ]
    },
    {
      "cell_type": "markdown",
      "id": "65dc0aae-a676-420a-be53-ba95b5103dfa",
      "metadata": {
        "id": "65dc0aae-a676-420a-be53-ba95b5103dfa"
      },
      "source": [
        "### <u>Difference between map(),filter(),reduce() function are -:</u>\n",
        "<table border=0 height=500 width= 600>\n",
        "    <tr>\n",
        "        <th>Key charateristics</th>\n",
        "        <th>map()</th>\n",
        "        <th>filter()</th>\n",
        "        <th>reduce()</th>\n",
        "    </tr>\n",
        "    <tr>\n",
        "        <td>Syntax</td>\n",
        "        <td>map(function,iterable)</td>\n",
        "        <td>filter(function,iterable)</td>\n",
        "        <td>reduce(function,iterable)</td>\n",
        "    </tr>\n",
        "    <tr>\n",
        "        <td>Effect of the function on the iterable</td>\n",
        "        <td>Appiles the function evenly to all the items in the iterable object</td>\n",
        "        <td>Function is a boolean condition that rejects all the items in the iterables object that are not true</td>\n",
        "        <td>Breaks down the entire process of applying the function into pair-wise operation,</td>\n",
        "    </tr>\n",
        "    <tr>\n",
        "        <td>Input to Output variables</td>\n",
        "        <td>N to N</td>\n",
        "        <td>n to M where N>=M</td>\n",
        "        <td>N to 1</td>\n",
        "    </tr>\n",
        "    <tr>\n",
        "        <td>Use Case</td>\n",
        "        <td>Transformation/Mapping</td>\n",
        "        <td>Splitting the data</td>\n",
        "        <td>Single output operations</td>\n",
        "    </tr>\n",
        "    <tr>\n",
        "        <td>Example</td>\n",
        "        <td>List of the square of all numbers in a list</td>\n",
        "        <td>All  even numbers from a list</td>\n",
        "        <td>Product of all the items in the list</td>\n",
        "    </tr>\n",
        "\n",
        "</table>"
      ]
    },
    {
      "cell_type": "markdown",
      "id": "83a592d6-a044-467d-9292-7e65a0fa138e",
      "metadata": {
        "id": "83a592d6-a044-467d-9292-7e65a0fa138e"
      },
      "source": [
        "***\n"
      ]
    },
    {
      "cell_type": "markdown",
      "id": "0acbe2a8-94b8-4911-92de-23f6ccd751a4",
      "metadata": {
        "id": "0acbe2a8-94b8-4911-92de-23f6ccd751a4"
      },
      "source": [
        "***"
      ]
    },
    {
      "cell_type": "markdown",
      "id": "58c20f13-984d-4ecf-b86e-0d75208b0fcb",
      "metadata": {
        "id": "58c20f13-984d-4ecf-b86e-0d75208b0fcb"
      },
      "source": [
        "# <u> Practice Question -:</u>"
      ]
    },
    {
      "cell_type": "markdown",
      "id": "f09752ad-696e-4783-8c03-07e23c733d45",
      "metadata": {
        "id": "f09752ad-696e-4783-8c03-07e23c733d45"
      },
      "source": [
        "## Q1.Write a Python function that takes a list of numbers as input returns the sum of all even numbers in the list"
      ]
    },
    {
      "cell_type": "code",
      "execution_count": null,
      "id": "a843cd96-6862-4eb8-96b3-58ccf6bbf583",
      "metadata": {
        "id": "a843cd96-6862-4eb8-96b3-58ccf6bbf583",
        "outputId": "849a31b1-14a9-4216-9d68-f0d822828f1d"
      },
      "outputs": [
        {
          "data": {
            "text/plain": [
              "20"
            ]
          },
          "execution_count": 14,
          "metadata": {},
          "output_type": "execute_result"
        }
      ],
      "source": [
        "def sum_even_number(list):\n",
        "    sum=0\n",
        "    for i in list:\n",
        "        if i%2==0:\n",
        "            sum+=i\n",
        "    return sum\n",
        "list1=[1,2,3,4,5,6,7,8]\n",
        "sum_even_number(list1)\n"
      ]
    },
    {
      "cell_type": "markdown",
      "id": "7adcea87-804f-47b5-9806-2d785530e280",
      "metadata": {
        "id": "7adcea87-804f-47b5-9806-2d785530e280"
      },
      "source": [
        "## Q2. Create a python function that accepts a string and returns the reverse of the string.\n"
      ]
    },
    {
      "cell_type": "code",
      "execution_count": null,
      "id": "683df9d7-5885-4929-bb2e-0a9e1502bee4",
      "metadata": {
        "id": "683df9d7-5885-4929-bb2e-0a9e1502bee4",
        "outputId": "c81f93ca-2b0b-41d4-cd39-74319d5d4bc4"
      },
      "outputs": [
        {
          "name": "stdout",
          "output_type": "stream",
          "text": [
            "reverse string of the given string :  ivanhsiaV\n"
          ]
        }
      ],
      "source": [
        "def reverse_string(string):\n",
        "    return string[::-1]\n",
        "string=\"Vaishnavi\"\n",
        "print(\"reverse string of the given string : \",reverse_string(string))"
      ]
    },
    {
      "cell_type": "markdown",
      "id": "d9692ce3-a4f0-43db-bc3c-c0d2c436b657",
      "metadata": {
        "id": "d9692ce3-a4f0-43db-bc3c-c0d2c436b657"
      },
      "source": [
        "## Q3. Implement a Python function that takes a list of integer and retruns a new list containing the squares of each number."
      ]
    },
    {
      "cell_type": "code",
      "execution_count": null,
      "id": "27ce8826-b106-466e-8eeb-bd5c4129c4d6",
      "metadata": {
        "id": "27ce8826-b106-466e-8eeb-bd5c4129c4d6",
        "outputId": "db6f6cab-ff76-41c9-91fe-efe9cd252874"
      },
      "outputs": [
        {
          "name": "stdout",
          "output_type": "stream",
          "text": [
            "square of each element in list : [4, 25, 36, 81, 529, 2025]\n"
          ]
        }
      ],
      "source": [
        "def square_list(list1):\n",
        "    new_list=[]\n",
        "    for i in list1:\n",
        "        j=i**2\n",
        "        new_list.append(j)\n",
        "    return new_list\n",
        "list1=[2,5,6,9,23,45]\n",
        "print(\"square of each element in list :\",square_list(list1))"
      ]
    },
    {
      "cell_type": "markdown",
      "id": "ce8245b7-5fce-42ae-8d02-7564954a6bd7",
      "metadata": {
        "id": "ce8245b7-5fce-42ae-8d02-7564954a6bd7"
      },
      "source": [
        "## Q4. Write a Python  funtion that checks if a given number is prime or not from 1 to 200."
      ]
    },
    {
      "cell_type": "code",
      "execution_count": null,
      "id": "f697dc77-a5ff-4c8f-a6f5-24456e959a02",
      "metadata": {
        "id": "f697dc77-a5ff-4c8f-a6f5-24456e959a02",
        "outputId": "3cce5411-3ba2-4e7b-ee3b-1c9fa51f65ea"
      },
      "outputs": [
        {
          "name": "stdout",
          "output_type": "stream",
          "text": [
            " 0 is not prime\n",
            " 1 is not prime\n",
            " 2 is Prime\n",
            " 3 is Prime\n",
            " 4 is not prime\n",
            " 5 is Prime\n",
            " 6 is not prime\n",
            " 7 is Prime\n",
            " 8 is not prime\n",
            " 9 is not prime\n",
            " 10 is not prime\n",
            " 11 is Prime\n",
            " 12 is not prime\n",
            " 13 is Prime\n",
            " 14 is not prime\n",
            " 15 is not prime\n",
            " 16 is not prime\n",
            " 17 is Prime\n",
            " 18 is not prime\n",
            " 19 is Prime\n",
            " 20 is not prime\n",
            " 21 is not prime\n",
            " 22 is not prime\n",
            " 23 is Prime\n",
            " 24 is not prime\n",
            " 25 is not prime\n",
            " 26 is not prime\n",
            " 27 is not prime\n",
            " 28 is not prime\n",
            " 29 is Prime\n",
            " 30 is not prime\n",
            " 31 is Prime\n",
            " 32 is not prime\n",
            " 33 is not prime\n",
            " 34 is not prime\n",
            " 35 is not prime\n",
            " 36 is not prime\n",
            " 37 is Prime\n",
            " 38 is not prime\n",
            " 39 is not prime\n",
            " 40 is not prime\n",
            " 41 is Prime\n",
            " 42 is not prime\n",
            " 43 is Prime\n",
            " 44 is not prime\n",
            " 45 is not prime\n",
            " 46 is not prime\n",
            " 47 is Prime\n",
            " 48 is not prime\n",
            " 49 is not prime\n",
            " 50 is not prime\n",
            " 51 is not prime\n",
            " 52 is not prime\n",
            " 53 is Prime\n",
            " 54 is not prime\n",
            " 55 is not prime\n",
            " 56 is not prime\n",
            " 57 is not prime\n",
            " 58 is not prime\n",
            " 59 is Prime\n",
            " 60 is not prime\n",
            " 61 is Prime\n",
            " 62 is not prime\n",
            " 63 is not prime\n",
            " 64 is not prime\n",
            " 65 is not prime\n",
            " 66 is not prime\n",
            " 67 is Prime\n",
            " 68 is not prime\n",
            " 69 is not prime\n",
            " 70 is not prime\n",
            " 71 is Prime\n",
            " 72 is not prime\n",
            " 73 is Prime\n",
            " 74 is not prime\n",
            " 75 is not prime\n",
            " 76 is not prime\n",
            " 77 is not prime\n",
            " 78 is not prime\n",
            " 79 is Prime\n",
            " 80 is not prime\n",
            " 81 is not prime\n",
            " 82 is not prime\n",
            " 83 is Prime\n",
            " 84 is not prime\n",
            " 85 is not prime\n",
            " 86 is not prime\n",
            " 87 is not prime\n",
            " 88 is not prime\n",
            " 89 is Prime\n",
            " 90 is not prime\n",
            " 91 is not prime\n",
            " 92 is not prime\n",
            " 93 is not prime\n",
            " 94 is not prime\n",
            " 95 is not prime\n",
            " 96 is not prime\n",
            " 97 is Prime\n",
            " 98 is not prime\n",
            " 99 is not prime\n",
            " 100 is not prime\n",
            " 101 is Prime\n",
            " 102 is not prime\n",
            " 103 is Prime\n",
            " 104 is not prime\n",
            " 105 is not prime\n",
            " 106 is not prime\n",
            " 107 is Prime\n",
            " 108 is not prime\n",
            " 109 is Prime\n",
            " 110 is not prime\n",
            " 111 is not prime\n",
            " 112 is not prime\n",
            " 113 is Prime\n",
            " 114 is not prime\n",
            " 115 is not prime\n",
            " 116 is not prime\n",
            " 117 is not prime\n",
            " 118 is not prime\n",
            " 119 is not prime\n",
            " 120 is not prime\n",
            " 121 is not prime\n",
            " 122 is not prime\n",
            " 123 is not prime\n",
            " 124 is not prime\n",
            " 125 is not prime\n",
            " 126 is not prime\n",
            " 127 is Prime\n",
            " 128 is not prime\n",
            " 129 is not prime\n",
            " 130 is not prime\n",
            " 131 is Prime\n",
            " 132 is not prime\n",
            " 133 is not prime\n",
            " 134 is not prime\n",
            " 135 is not prime\n",
            " 136 is not prime\n",
            " 137 is Prime\n",
            " 138 is not prime\n",
            " 139 is Prime\n",
            " 140 is not prime\n",
            " 141 is not prime\n",
            " 142 is not prime\n",
            " 143 is not prime\n",
            " 144 is not prime\n",
            " 145 is not prime\n",
            " 146 is not prime\n",
            " 147 is not prime\n",
            " 148 is not prime\n",
            " 149 is Prime\n",
            " 150 is not prime\n",
            " 151 is Prime\n",
            " 152 is not prime\n",
            " 153 is not prime\n",
            " 154 is not prime\n",
            " 155 is not prime\n",
            " 156 is not prime\n",
            " 157 is Prime\n",
            " 158 is not prime\n",
            " 159 is not prime\n",
            " 160 is not prime\n",
            " 161 is not prime\n",
            " 162 is not prime\n",
            " 163 is Prime\n",
            " 164 is not prime\n",
            " 165 is not prime\n",
            " 166 is not prime\n",
            " 167 is Prime\n",
            " 168 is not prime\n",
            " 169 is not prime\n",
            " 170 is not prime\n",
            " 171 is not prime\n",
            " 172 is not prime\n",
            " 173 is Prime\n",
            " 174 is not prime\n",
            " 175 is not prime\n",
            " 176 is not prime\n",
            " 177 is not prime\n",
            " 178 is not prime\n",
            " 179 is Prime\n",
            " 180 is not prime\n",
            " 181 is Prime\n",
            " 182 is not prime\n",
            " 183 is not prime\n",
            " 184 is not prime\n",
            " 185 is not prime\n",
            " 186 is not prime\n",
            " 187 is not prime\n",
            " 188 is not prime\n",
            " 189 is not prime\n",
            " 190 is not prime\n",
            " 191 is Prime\n",
            " 192 is not prime\n",
            " 193 is Prime\n",
            " 194 is not prime\n",
            " 195 is not prime\n",
            " 196 is not prime\n",
            " 197 is Prime\n",
            " 198 is not prime\n",
            " 199 is Prime\n"
          ]
        }
      ],
      "source": [
        "def prime_list(n):\n",
        "    if n==0 or n==1:\n",
        "        return False\n",
        "    for i in range(2,n//2+1):\n",
        "            if(n%i==0):\n",
        "                return False\n",
        "    return True\n",
        "\n",
        "\n",
        "n=200\n",
        "for i in range(n):\n",
        "    print(f\" {i} is {'Prime' if  prime_list(i) else 'not prime'}\")\n"
      ]
    },
    {
      "cell_type": "markdown",
      "id": "7eaa6881-7020-45e1-a59d-fff67da47c90",
      "metadata": {
        "id": "7eaa6881-7020-45e1-a59d-fff67da47c90"
      },
      "source": [
        "## Q5. Create an iterator class in python that generates the fibonacci sequence up to a specified numbers of terms."
      ]
    },
    {
      "cell_type": "code",
      "execution_count": null,
      "id": "13e134fd-d399-417c-9089-11a31027ffbc",
      "metadata": {
        "id": "13e134fd-d399-417c-9089-11a31027ffbc",
        "outputId": "e21b75c0-f109-4a54-d8d2-c3aaa3ec1180"
      },
      "outputs": [
        {
          "name": "stdout",
          "output_type": "stream",
          "text": [
            "0\n",
            "1\n",
            "1\n",
            "2\n",
            "3\n",
            "5\n",
            "8\n",
            "13\n",
            "21\n",
            "34\n"
          ]
        }
      ],
      "source": [
        "class Func():\n",
        "    def __init__(self,max=50):\n",
        "        self.max=max\n",
        "    def __iter__(self):\n",
        "        self.x=0\n",
        "        self.y=1\n",
        "        return self\n",
        "    def __next__(self):\n",
        "        self.return_value=self.x\n",
        "        if self.x>self.max:\n",
        "            raise StopIteration\n",
        "        self.z=self.x +self.y\n",
        "        self.x=self.y\n",
        "        self.y=self.z\n",
        "        return self.return_value\n",
        "f = iter(Func())\n",
        "print( next(f) )\n",
        "print( next(f) )\n",
        "print( next(f) )\n",
        "print( next(f) )\n",
        "print( next(f) )\n",
        "print( next(f) )\n",
        "print( next(f) )\n",
        "print( next(f) )\n",
        "print( next(f) )\n",
        "print( next(f) )\n",
        "\n",
        "\n",
        "\n"
      ]
    },
    {
      "cell_type": "markdown",
      "id": "b7cc4cc6-35e7-43de-a079-31a404cb48e6",
      "metadata": {
        "id": "b7cc4cc6-35e7-43de-a079-31a404cb48e6"
      },
      "source": [
        "## Q6. Write a generator function in python that yields the power of  up to a given exponent."
      ]
    },
    {
      "cell_type": "code",
      "execution_count": null,
      "id": "0d74cae6-e9a6-4968-b048-5f30df21d5bb",
      "metadata": {
        "id": "0d74cae6-e9a6-4968-b048-5f30df21d5bb",
        "outputId": "111f3ef2-982c-478f-b753-2d2417efd671"
      },
      "outputs": [
        {
          "name": "stdout",
          "output_type": "stream",
          "text": [
            "enter the base value: 3\n",
            "eneter the exponent value: 4\n"
          ]
        },
        {
          "name": "stdout",
          "output_type": "stream",
          "text": [
            " The power 3 up to a  given 4 <generator object power_exponent at 0x000001475776B920>\n",
            "1\n",
            "3\n",
            "9\n",
            "27\n",
            "81\n"
          ]
        }
      ],
      "source": [
        "def power_exponent(base,exponent):\n",
        "    result=1\n",
        "    for i in range(exponent+1):\n",
        "        yield result\n",
        "        result*=base\n",
        "\n",
        "base=int(input(\"enter the base value:\"))\n",
        "exponent=int(input(\"eneter the exponent value:\"))\n",
        "power_gen = power_exponent(base,exponent)\n",
        "print(\" The power\" ,base, \"up to a  given\",exponent,power_gen)\n",
        "for i in power_gen:\n",
        "    print(i)"
      ]
    },
    {
      "cell_type": "markdown",
      "id": "3cfb7ec4-0057-429c-baaf-4ab8cdecd1e8",
      "metadata": {
        "id": "3cfb7ec4-0057-429c-baaf-4ab8cdecd1e8"
      },
      "source": [
        "## Q7. Implement a generator function that reads a file line by line and yields each line as a string."
      ]
    },
    {
      "cell_type": "code",
      "execution_count": null,
      "id": "1fca01f8-b729-4a06-81ae-b72c18730f79",
      "metadata": {
        "id": "1fca01f8-b729-4a06-81ae-b72c18730f79"
      },
      "outputs": [],
      "source": [
        "def read_lines(filename):\n",
        "    \"\"\"generator function that yields each line from the file specified ny filename\"\"\"\n",
        "    with open(filename, 'r') as file:\n",
        "        for line in file:\n",
        "            yield line  #Yield each line directly\n",
        "\n",
        "filename = 'localhost:8888/edit/Desktop/jupyter/untitled.txt?' #Replace with the path to your file\n",
        "for line in read_lines(filename):\n",
        "    print(line, end=\"\") #Print each line without adding extra lines"
      ]
    },
    {
      "cell_type": "markdown",
      "id": "921de404-d451-46e2-a128-49ed9cb6eef6",
      "metadata": {
        "id": "921de404-d451-46e2-a128-49ed9cb6eef6"
      },
      "source": [
        "## Q8. Use a lambda function in Python to sort a list of tuples based on the second element of each tuple."
      ]
    },
    {
      "cell_type": "code",
      "execution_count": null,
      "id": "ee493ee9-464f-403d-8182-fe0b00507b5e",
      "metadata": {
        "id": "ee493ee9-464f-403d-8182-fe0b00507b5e",
        "outputId": "4cb792d7-22b6-49f8-f019-5642d3e99173"
      },
      "outputs": [
        {
          "name": "stdout",
          "output_type": "stream",
          "text": [
            "[(1, 8), (4, 3), (4, 6), (9, 6)]\n"
          ]
        }
      ],
      "source": [
        "t=[(4,3),(4,6),(1,8),(9,6)]\n",
        "l=[]\n",
        "for i in range(len(t)):\n",
        "    if type(t[i])==tuple:\n",
        "        for j in range(len(t[i])):\n",
        "            if (t[j][1]>=t[j+1][i]):\n",
        "                t[j],t[j+1]=t[j+1],t[j]\n",
        "print(t)\n"
      ]
    },
    {
      "cell_type": "code",
      "execution_count": null,
      "id": "311f452e-e776-4579-8cfa-fe3e151ec0a8",
      "metadata": {
        "id": "311f452e-e776-4579-8cfa-fe3e151ec0a8",
        "outputId": "619ef0f2-9d46-470d-bfc6-5917e55864d1"
      },
      "outputs": [
        {
          "name": "stdout",
          "output_type": "stream",
          "text": [
            "[(4, 3), (4, 6), (9, 6), (1, 8)]\n"
          ]
        }
      ],
      "source": [
        "x=[(4,3),(4,6),(1,8),(9,6)]\n",
        "x.sort(key=lambda x:x[1])\n",
        "print(x)"
      ]
    },
    {
      "cell_type": "markdown",
      "id": "0a4a4bf2-74f9-49eb-821d-f94222418aab",
      "metadata": {
        "id": "0a4a4bf2-74f9-49eb-821d-f94222418aab"
      },
      "source": [
        "## Q9.Write a Python program that uses map() to convert a list of temperatures from Celisius to Fahrenhit."
      ]
    },
    {
      "cell_type": "code",
      "execution_count": null,
      "id": "14fd727b-a538-4671-b4c6-eafa3541f92f",
      "metadata": {
        "id": "14fd727b-a538-4671-b4c6-eafa3541f92f",
        "outputId": "a035b353-e95a-40be-96a8-50b46b2e28c6"
      },
      "outputs": [
        {
          "name": "stdout",
          "output_type": "stream",
          "text": [
            " a list of temperature in Celisius: [25, 32, 98, 100]\n",
            "convert a list of temperatures from Celisius  to Fahrenhit : [77.0, 89.6, 208.4, 212.0]\n"
          ]
        }
      ],
      "source": [
        "Temp=[25,32,98,100]\n",
        "Fahrenhit = list(map(lambda celisius:(celisius*9/5)+32  ,Temp))\n",
        "print(\" a list of temperature in Celisius:\",Temp)\n",
        "print(\"convert a list of temperatures from Celisius  to Fahrenhit :\", Fahrenhit )"
      ]
    },
    {
      "cell_type": "markdown",
      "id": "497759c7-949f-4d2b-be78-f348835b60a4",
      "metadata": {
        "id": "497759c7-949f-4d2b-be78-f348835b60a4"
      },
      "source": [
        "## Q10. Create a Python program that uses filter() to remove all the vowels from a given string."
      ]
    },
    {
      "cell_type": "code",
      "execution_count": null,
      "id": "c5860466-6249-4dc0-a45e-db2d61f9756c",
      "metadata": {
        "colab": {
          "base_uri": "https://localhost:8080/"
        },
        "id": "c5860466-6249-4dc0-a45e-db2d61f9756c",
        "outputId": "85ad2ba1-2264-4aac-e7a8-b8bf8e778a91"
      },
      "outputs": [
        {
          "output_type": "stream",
          "name": "stdout",
          "text": [
            "vowel with string : Hello World\n",
            "remove all vowel from string : Hll Wrld\n"
          ]
        }
      ],
      "source": [
        "def remove_vowel(string):\n",
        "    list1=[]\n",
        "    for chr in string:\n",
        "        if chr not in \"aeiou\":\n",
        "            list1.append(chr)\n",
        "    return list1\n",
        "string=\"Hello World\"\n",
        "print(\"vowel with string :\",string)\n",
        "without_vowel=\"\".join(list(filter(remove_vowel,string)))\n",
        "print(\"remove all vowel from string :\",without_vowel)"
      ]
    },
    {
      "cell_type": "markdown",
      "id": "6ffb7f33-34a6-4f01-be5f-b8aa69fdac64",
      "metadata": {
        "id": "6ffb7f33-34a6-4f01-be5f-b8aa69fdac64"
      },
      "source": [
        "## Q11. Imagine an accounting routine used in book shop .It works on a list with sublist,which look  this :\n",
        "<table border=0 height=500 width=600>\n",
        "    <tr>\n",
        "        <th>Order Number</th>\n",
        "        <th>Book Title and Author</th>\n",
        "        <th>Quantity</th>\n",
        "        <th>Price per Item</th>\n",
        "    </tr>\n",
        "    <tr>\n",
        "        <td align=\"center\">34587</td>\n",
        "        <td>Learning Python, Mark Lutz</td>\n",
        "        <td align=\"center\"> 4</td>\n",
        "        <td align=\"center\">40.95</td>\n",
        "    </tr>\n",
        "    <tr>\n",
        "        <td align=\"center\">98762</td>\n",
        "        <td>Programming Python ,Mark Lutz</td>\n",
        "        <td align=\"center\">5</td>\n",
        "        <td align=\"center\">56.80</td>\n",
        "    </tr>\n",
        "    <tr>\n",
        "        <td align=\"center\">77226</td>\n",
        "        <td>Head First Python ,Paul Barry</td>\n",
        "        <td align=\"center\">3</td>\n",
        "        <td align=\"center\">32.95</td>\n",
        "    </tr>\n",
        "    <tr>\n",
        "        <td align=\"center\">88112</td>\n",
        "        <td>Einfuhrung in Python3, Bernd Klein</td>\n",
        "        <td align=\"center\">3</td>\n",
        "        <td align=\"center\">24.99</td>\n",
        "    </tr>\n",
        "</table>\n"
      ]
    },
    {
      "cell_type": "markdown",
      "id": "04813023-0f0f-4f3b-b448-ca9efd75c449",
      "metadata": {
        "id": "04813023-0f0f-4f3b-b448-ca9efd75c449"
      },
      "source": [
        "### Write a python program , which returns a list with-2 tuples.Each tuple consist of the order number and the product of the price per item and the quantity. The product should be increased by 10, -C if the value of the order is smaller than 10000 C .  \n",
        "### Write a Python program using lambda and map.\n"
      ]
    },
    {
      "cell_type": "code",
      "execution_count": null,
      "id": "07f73375-98e6-4525-b478-a74f304708ac",
      "metadata": {
        "id": "07f73375-98e6-4525-b478-a74f304708ac",
        "outputId": "2fcda518-4754-44c8-b82c-42558caa1902"
      },
      "outputs": [
        {
          "name": "stdout",
          "output_type": "stream",
          "text": [
            "[(34587, 178.89999999999998), (98762, 174.75), (77226, 59.2), (88112, 55.5)]\n"
          ]
        }
      ],
      "source": [
        "orders= [\n",
        "         [34587,\"Learning Pyhton , Mark Lutz\", 56.30, 3],\n",
        "         [98762, \"Progrmming Python, Mark Lutz\", 32.95,5],\n",
        "         [77226,\" Head First Pyhon ,Paul Barry\",24.60,2],\n",
        "         [88112,\"Einfuhrung in Python,bernd klein\" , 45.50,1]\n",
        "]\n",
        "result = list(map(lambda order:(order[0],order[2] * order[3] + ( 10 if order[2]* order[3] <10000 else 0)),orders))\n",
        "print(result)"
      ]
    },
    {
      "cell_type": "markdown",
      "id": "e550aea0-191b-4899-872a-0d616dade765",
      "metadata": {
        "id": "e550aea0-191b-4899-872a-0d616dade765"
      },
      "source": [
        "***"
      ]
    },
    {
      "cell_type": "code",
      "execution_count": null,
      "id": "c9ceebd4-38e7-4ff8-9011-9dd7d40e3ba5",
      "metadata": {
        "id": "c9ceebd4-38e7-4ff8-9011-9dd7d40e3ba5"
      },
      "outputs": [],
      "source": []
    }
  ],
  "metadata": {
    "kernelspec": {
      "display_name": "Python 3 (ipykernel)",
      "language": "python",
      "name": "python3"
    },
    "language_info": {
      "codemirror_mode": {
        "name": "ipython",
        "version": 3
      },
      "file_extension": ".py",
      "mimetype": "text/x-python",
      "name": "python",
      "nbconvert_exporter": "python",
      "pygments_lexer": "ipython3",
      "version": "3.12.4"
    },
    "colab": {
      "provenance": []
    }
  },
  "nbformat": 4,
  "nbformat_minor": 5
}